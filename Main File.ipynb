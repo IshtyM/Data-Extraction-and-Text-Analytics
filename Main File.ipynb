{
 "cells": [
  {
   "cell_type": "markdown",
   "metadata": {},
   "source": [
   ]
  },
  {
   "cell_type": "markdown",
   "metadata": {},
   "source": [
    "### Importing Files and Libraries"
   ]
  },
  {
   "cell_type": "code",
   "execution_count": 1,
   "metadata": {},
   "outputs": [],
   "source": [
    "import pandas as pd"
   ]
  },
  {
   "cell_type": "code",
   "execution_count": 2,
   "metadata": {},
   "outputs": [],
   "source": [
    "df=pd.read_excel(\"D:\\Folder\\Projects Python\\Assignment\\cik_list.xlsx\")\n",
    "data=df"
   ]
  },
  {
   "cell_type": "markdown",
   "metadata": {},
   "source": [
    "### Imporintg Function File to call Functions "
   ]
  },
  {
   "cell_type": "markdown",
   "metadata": {},
   "source": [
    "#### Forming URL LIST"
   ]
  },
  {
   "cell_type": "code",
   "execution_count": 37,
   "metadata": {},
   "outputs": [],
   "source": [
    "from Function import *\n",
    "url_list=[]\n",
    "for i in data.index:\n",
    "    url=url_define(i)\n",
    "    url_list.append(url)"
   ]
  },
  {
   "cell_type": "markdown",
   "metadata": {},
   "source": [
    "#### Cleaning The LINK FILES"
   ]
  },
  {
   "cell_type": "code",
   "execution_count": 5,
   "metadata": {},
   "outputs": [],
   "source": [
    "clean_text_list=[]\n",
    "for i in url_list:\n",
    "    clean_text_list.append(clean_text(i))"
   ]
  },
  {
   "cell_type": "markdown",
   "metadata": {},
   "source": [
    "#### Finding Variables 1,2,3,8,9,10,11,12,13 and 14"
   ]
  },
  {
   "cell_type": "code",
   "execution_count": 26,
   "metadata": {},
   "outputs": [
    {
     "name": "stdout",
     "output_type": "stream",
     "text": [
      ""
     ]
    }
   ],
   "source": [
    "word_count_list=[]\n",
    "PS_list=[]\n",
    "NS_list=[]\n",
    "Polarity_list=[]\n",
    "uncertainty_list=[]\n",
    "constraining_list=[]\n",
    "positive_word_P=[]\n",
    "Negative_word_P=[]\n",
    "Uncertainty_word_P=[]\n",
    "Constraining_word_P=[]\n",
    "\n",
    "for i in data.index:\n",
    "    for cleaned_list1 in clean_text_list[i]:\n",
    "        single_occurance_word_list, word_count= stopword_clean1(cleaned_list1)\n",
    "    \n",
    "        word_count_list.append(word_count)\n",
    "        PS,NS,Polarity_Score= Variable_1_2_3(single_occurance_word_list)\n",
    "        PS_list.append(PS)\n",
    "        NS_list.append(NS)\n",
    "        Polarity_list.append(Polarity_Score)\n",
    "\n",
    "        Uncertainty,Constraining= variable_9_10(single_occurance_word_list)\n",
    "        uncertainty_list.append(Uncertainty)\n",
    "        constraining_list.append(Constraining)\n",
    "        \n",
    "        PWP,NWP,UWP,CWP=variable_11_12_13_4(PS,NS,Uncertainty,Constraining,word_count)\n",
    "        positive_word_P.append(PWP)\n",
    "        Negative_word_P.append(NWP)\n",
    "        Uncertainty_word_P.append(UWP) \n",
    "        Constraining_word_P.append(CWP)\n",
    "        \n",
    "        print(i,end=\" \")"
   ]
  },
  {
   "cell_type": "markdown",
   "metadata": {},
   "source": [
    "#### Finding variables 4,5,6 and 7"
   ]
  },
  {
   "cell_type": "code",
   "execution_count": 7,
   "metadata": {
    "collapsed": true
   },
   "outputs": [
    {
     "name": "stdout",
     "output_type": "stream",
     "text": [
      
      ""
     ]
    }
   ],
   "source": [
    "Avg_sentence_length, complex_words_percent, FogIndex, Complex_Words_Count= variable_4_5_6_7(clean_text_list)"
   ]
  },
  {
   "cell_type": "markdown",
   "metadata": {},
   "source": [
    "#### Finding Variable 15"
   ]
  },
  {
   "cell_type": "code",
   "execution_count": 20,
   "metadata": {
    "collapsed": true
   },
   "outputs": [
    {
     "name": "stdout",
     "output_type": "stream",
     "text": [
      
     ]
    }
   ],
   "source": [
    "CWO_List=[]\n",
    "for i in data.index:\n",
    "    for cleaned_list1 in clean_text_list[i]:\n",
    "        CWO_List.append(variable_15(cleaned_list1))\n",
    "        print(i)"
   ]
  },
  {
   "cell_type": "markdown",
   "metadata": {},
   "source": [
    "### Dataframe Formation"
   ]
  },
  {
   "cell_type": "code",
   "execution_count": 31,
   "metadata": {},
   "outputs": [],
   "source": [
    "df['Posiyive Score']=PS_list\n",
    "df['Negative Score']=NS_list\n",
    "df['Polarity Score']=Polarity_list\n",
    "df['Average Sentence Length']=Avg_sentence_length\n",
    "df['Percentage of Complex Words']=complex_words_percent\n",
    "df['Fog Index']=FogIndex\n",
    "df['Complex Word Count']=Complex_Words_Count\n",
    "df['Word Count']=word_count_list\n",
    "df['Uncertainty Score']=constraining_list\n",
    "df['Certaining Score']=uncertainty_list\n",
    "df['Positive Word proportion']=positive_word_P\n",
    "df['Negative Word Proportion']=Negative_word_P\n",
    "df['Uncertainty Word Proportion']=Uncertainty_word_P\n",
    "df['Constraining Word Proportion']=Constraining_word_P\n",
    "df['constraining words whole report']=CWO_List"
   ]
  },
  {
   "cell_type": "code",
   "execution_count": 35,
   "metadata": {},
   "outputs": [
    {
     "data": {
      "text/html": [
       "<div>\n",
       "<style scoped>\n",
       "    .dataframe tbody tr th:only-of-type {\n",
       "        vertical-align: middle;\n",
       "    }\n",
       "\n",
       "    .dataframe tbody tr th {\n",
       "        vertical-align: top;\n",
       "    }\n",
       "\n",
       "    .dataframe thead th {\n",
       "        text-align: right;\n",
       "    }\n",
       "</style>\n",
       "<table border=\"1\" class=\"dataframe\">\n",
       "  <thead>\n",
       "    <tr style=\"text-align: right;\">\n",
       "      <th></th>\n",
       "      <th>CIK</th>\n",
       "      <th>CONAME</th>\n",
       "      <th>FYRMO</th>\n",
       "      <th>FDATE</th>\n",
       "      <th>FORM</th>\n",
       "      <th>SECFNAME</th>\n",
       "      <th>Fog Index</th>\n",
       "      <th>Average Sentence Length</th>\n",
       "      <th>Complex Word Count</th>\n",
       "      <th>Percentage of Complex Words</th>\n",
       "      <th>...</th>\n",
       "      <th>Negative Score</th>\n",
       "      <th>Polarity Score</th>\n",
       "      <th>Word Count</th>\n",
       "      <th>Uncertainty Score</th>\n",
       "      <th>Certaining Score</th>\n",
       "      <th>Positive Word proportion</th>\n",
       "      <th>Negative Word Proportion</th>\n",
       "      <th>Uncertainty Word Proportion</th>\n",
       "      <th>Constraining Word Proportion</th>\n",
       "      <th>SECFNAME URL</th>\n",
       "    </tr>\n",
       "  </thead>\n",
       "  <tbody>\n",
       "    <tr>\n",
       "      <th>0</th>\n",
       "      <td>3662</td>\n",
       "      <td>SUNBEAM CORP/FL/</td>\n",
       "      <td>199803</td>\n",
       "      <td>1998-03-06</td>\n",
       "      <td>10-K405</td>\n",
       "      <td>edgar/data/3662/0000950170-98-000413.txt</td>\n",
       "      <td>0.165959</td>\n",
       "      <td>0.207976</td>\n",
       "      <td>35003</td>\n",
       "      <td>0.206921</td>\n",
       "      <td>...</td>\n",
       "      <td>199</td>\n",
       "      <td>-0.524904</td>\n",
       "      <td>43533</td>\n",
       "      <td>40</td>\n",
       "      <td>40</td>\n",
       "      <td>0.001424</td>\n",
       "      <td>0.004571</td>\n",
       "      <td>0.000919</td>\n",
       "      <td>0.000919</td>\n",
       "      <td>https://www.sec.gov/Archives/edgar/data/3662/0...</td>\n",
       "    </tr>\n",
       "    <tr>\n",
       "      <th>1</th>\n",
       "      <td>3662</td>\n",
       "      <td>SUNBEAM CORP/FL/</td>\n",
       "      <td>199805</td>\n",
       "      <td>1998-05-15</td>\n",
       "      <td>10-Q</td>\n",
       "      <td>edgar/data/3662/0000950170-98-001001.txt</td>\n",
       "      <td>0.290581</td>\n",
       "      <td>0.204948</td>\n",
       "      <td>57937</td>\n",
       "      <td>0.521504</td>\n",
       "      <td>...</td>\n",
       "      <td>169</td>\n",
       "      <td>-0.625000</td>\n",
       "      <td>28520</td>\n",
       "      <td>32</td>\n",
       "      <td>25</td>\n",
       "      <td>0.001367</td>\n",
       "      <td>0.005926</td>\n",
       "      <td>0.000877</td>\n",
       "      <td>0.001122</td>\n",
       "      <td>https://www.sec.gov/Archives/edgar/data/3662/0...</td>\n",
       "    </tr>\n",
       "    <tr>\n",
       "      <th>2</th>\n",
       "      <td>3662</td>\n",
       "      <td>SUNBEAM CORP/FL/</td>\n",
       "      <td>199808</td>\n",
       "      <td>1998-08-13</td>\n",
       "      <td>NT 10-Q</td>\n",
       "      <td>edgar/data/3662/0000950172-98-000783.txt</td>\n",
       "      <td>25.903533</td>\n",
       "      <td>0.214388</td>\n",
       "      <td>58090</td>\n",
       "      <td>64.544444</td>\n",
       "      <td>...</td>\n",
       "      <td>4</td>\n",
       "      <td>-0.600000</td>\n",
       "      <td>237</td>\n",
       "      <td>0</td>\n",
       "      <td>1</td>\n",
       "      <td>0.004219</td>\n",
       "      <td>0.016878</td>\n",
       "      <td>0.004219</td>\n",
       "      <td>0.000000</td>\n",
       "      <td>https://www.sec.gov/Archives/edgar/data/3662/0...</td>\n",
       "    </tr>\n",
       "    <tr>\n",
       "      <th>3</th>\n",
       "      <td>3662</td>\n",
       "      <td>SUNBEAM CORP/FL/</td>\n",
       "      <td>199811</td>\n",
       "      <td>1998-11-12</td>\n",
       "      <td>10-K/A</td>\n",
       "      <td>edgar/data/3662/0000950170-98-002145.txt</td>\n",
       "      <td>0.452119</td>\n",
       "      <td>0.211780</td>\n",
       "      <td>75989</td>\n",
       "      <td>0.918518</td>\n",
       "      <td>...</td>\n",
       "      <td>148</td>\n",
       "      <td>-0.525773</td>\n",
       "      <td>21420</td>\n",
       "      <td>30</td>\n",
       "      <td>34</td>\n",
       "      <td>0.002148</td>\n",
       "      <td>0.006909</td>\n",
       "      <td>0.001587</td>\n",
       "      <td>0.001401</td>\n",
       "      <td>https://www.sec.gov/Archives/edgar/data/3662/0...</td>\n",
       "    </tr>\n",
       "    <tr>\n",
       "      <th>4</th>\n",
       "      <td>3662</td>\n",
       "      <td>SUNBEAM CORP/FL/</td>\n",
       "      <td>199811</td>\n",
       "      <td>1998-11-16</td>\n",
       "      <td>NT 10-Q</td>\n",
       "      <td>edgar/data/3662/0000950172-98-001203.txt</td>\n",
       "      <td>27.387445</td>\n",
       "      <td>0.215029</td>\n",
       "      <td>76171</td>\n",
       "      <td>68.253584</td>\n",
       "      <td>...</td>\n",
       "      <td>5</td>\n",
       "      <td>-0.666667</td>\n",
       "      <td>280</td>\n",
       "      <td>0</td>\n",
       "      <td>2</td>\n",
       "      <td>0.003571</td>\n",
       "      <td>0.017857</td>\n",
       "      <td>0.007143</td>\n",
       "      <td>0.000000</td>\n",
       "      <td>https://www.sec.gov/Archives/edgar/data/3662/0...</td>\n",
       "    </tr>\n",
       "  </tbody>\n",
       "</table>\n",
       "<p>5 rows × 22 columns</p>\n",
       "</div>"
      ],
      "text/plain": [
       "    CIK            CONAME   FYRMO      FDATE     FORM  \\\n",
       "0  3662  SUNBEAM CORP/FL/  199803 1998-03-06  10-K405   \n",
       "1  3662  SUNBEAM CORP/FL/  199805 1998-05-15     10-Q   \n",
       "2  3662  SUNBEAM CORP/FL/  199808 1998-08-13  NT 10-Q   \n",
       "3  3662  SUNBEAM CORP/FL/  199811 1998-11-12   10-K/A   \n",
       "4  3662  SUNBEAM CORP/FL/  199811 1998-11-16  NT 10-Q   \n",
       "\n",
       "                                   SECFNAME  Fog Index  \\\n",
       "0  edgar/data/3662/0000950170-98-000413.txt   0.165959   \n",
       "1  edgar/data/3662/0000950170-98-001001.txt   0.290581   \n",
       "2  edgar/data/3662/0000950172-98-000783.txt  25.903533   \n",
       "3  edgar/data/3662/0000950170-98-002145.txt   0.452119   \n",
       "4  edgar/data/3662/0000950172-98-001203.txt  27.387445   \n",
       "\n",
       "   Average Sentence Length  Complex Word Count  Percentage of Complex Words  \\\n",
       "0                 0.207976               35003                     0.206921   \n",
       "1                 0.204948               57937                     0.521504   \n",
       "2                 0.214388               58090                    64.544444   \n",
       "3                 0.211780               75989                     0.918518   \n",
       "4                 0.215029               76171                    68.253584   \n",
       "\n",
       "   ...  Negative Score  Polarity Score  Word Count  Uncertainty Score  \\\n",
       "0  ...             199       -0.524904       43533                 40   \n",
       "1  ...             169       -0.625000       28520                 32   \n",
       "2  ...               4       -0.600000         237                  0   \n",
       "3  ...             148       -0.525773       21420                 30   \n",
       "4  ...               5       -0.666667         280                  0   \n",
       "\n",
       "   Certaining Score  Positive Word proportion  Negative Word Proportion  \\\n",
       "0                40                  0.001424                  0.004571   \n",
       "1                25                  0.001367                  0.005926   \n",
       "2                 1                  0.004219                  0.016878   \n",
       "3                34                  0.002148                  0.006909   \n",
       "4                 2                  0.003571                  0.017857   \n",
       "\n",
       "   Uncertainty Word Proportion  Constraining Word Proportion  \\\n",
       "0                     0.000919                      0.000919   \n",
       "1                     0.000877                      0.001122   \n",
       "2                     0.004219                      0.000000   \n",
       "3                     0.001587                      0.001401   \n",
       "4                     0.007143                      0.000000   \n",
       "\n",
       "                                        SECFNAME URL  \n",
       "0  https://www.sec.gov/Archives/edgar/data/3662/0...  \n",
       "1  https://www.sec.gov/Archives/edgar/data/3662/0...  \n",
       "2  https://www.sec.gov/Archives/edgar/data/3662/0...  \n",
       "3  https://www.sec.gov/Archives/edgar/data/3662/0...  \n",
       "4  https://www.sec.gov/Archives/edgar/data/3662/0...  \n",
       "\n",
       "[5 rows x 22 columns]"
      ]
     },
     "execution_count": 35,
     "metadata": {},
     "output_type": "execute_result"
    }
   ],
   "source": [
    "df['SECFNAME URL']=url_list\n",
    "df.head()"
   ]
  },
  {
   "cell_type": "markdown",
   "metadata": {},
   "source": [
    "### Exporitng the Data File"
   ]
  },
  {
   "cell_type": "code",
   "execution_count": 36,
   "metadata": {},
   "outputs": [],
   "source": [
    "data.to_excel('d:Ishty Folder\\Projects Python\\Final Output List.xlsx',header=True)"
   ]
  }
 ],
 "metadata": {
  "kernelspec": {
   "display_name": "Python 3",
   "language": "python",
   "name": "python3"
  },
  "language_info": {
   "codemirror_mode": {
    "name": "ipython",
    "version": 3
   },
   "file_extension": ".py",
   "mimetype": "text/x-python",
   "name": "python",
   "nbconvert_exporter": "python",
   "pygments_lexer": "ipython3",
   "version": "3.8.5"
  }
 },
 "nbformat": 4,
 "nbformat_minor": 4
}
